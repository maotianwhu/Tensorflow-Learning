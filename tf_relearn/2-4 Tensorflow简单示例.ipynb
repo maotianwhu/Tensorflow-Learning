{
 "cells": [
  {
   "cell_type": "code",
   "execution_count": 1,
   "metadata": {},
   "outputs": [
    {
     "ename": "RuntimeError",
     "evalue": "module compiled against API version 0xc but this version of numpy is 0xa",
     "output_type": "error",
     "traceback": [
      "\u001b[0;31m---------------------------------------------------------------------------\u001b[0m",
      "\u001b[0;31mRuntimeError\u001b[0m                              Traceback (most recent call last)",
      "\u001b[0;31mRuntimeError\u001b[0m: module compiled against API version 0xc but this version of numpy is 0xa"
     ]
    },
    {
     "ename": "RuntimeError",
     "evalue": "module compiled against API version 0xc but this version of numpy is 0xa",
     "output_type": "error",
     "traceback": [
      "\u001b[0;31m---------------------------------------------------------------------------\u001b[0m",
      "\u001b[0;31mRuntimeError\u001b[0m                              Traceback (most recent call last)",
      "\u001b[0;31mRuntimeError\u001b[0m: module compiled against API version 0xc but this version of numpy is 0xa"
     ]
    }
   ],
   "source": [
    "import tensorflow as tf\n",
    "import numpy as np"
   ]
  },
  {
   "cell_type": "code",
   "execution_count": 8,
   "metadata": {},
   "outputs": [
    {
     "name": "stdout",
     "output_type": "stream",
     "text": [
      "0 [0.0, 0.0, 0.57616585]\n",
      "20 [0.58642209, 0.42251977, 0.014012537]\n",
      "40 [0.75284231, 0.33298001, 0.005004385]\n",
      "60 [0.85229635, 0.27947006, 0.0017872484]\n",
      "80 [0.91173106, 0.24749197, 0.00063829042]\n",
      "100 [0.94724971, 0.22838163, 0.00022795661]\n",
      "120 [0.96847594, 0.21696112, 8.1411701e-05]\n",
      "140 [0.98116088, 0.21013615, 2.9075274e-05]\n",
      "160 [0.98874158, 0.20605744, 1.0383793e-05]\n",
      "180 [0.99327189, 0.20361997, 3.7084055e-06]\n",
      "200 [0.99597925, 0.20216332, 1.324391e-06]\n"
     ]
    }
   ],
   "source": [
    "# numpy 生成100个样本点\n",
    "x_data = np.random.rand(100)\n",
    "y_data = x_data * 01. + 0.2\n",
    "\n",
    "# 构造一个线性模型\n",
    "b = tf.Variable(0.)\n",
    "k = tf.Variable(0.)\n",
    "y = k * x_data + b\n",
    "\n",
    "# 二次代价函数\n",
    "loss = tf.reduce_mean(tf.square(y_data - y))\n",
    "\n",
    "# 定义一个梯度下降法来进行训练的优化器\n",
    "opimizer = tf.train.GradientDescentOptimizer(0.2)\n",
    "# 最小化代价函数\n",
    "train = opimizer.minimize(loss)\n",
    "\n",
    "# 初始化变量\n",
    "init = tf.global_variables_initializer()\n",
    "\n",
    "with tf.Session() as sess:\n",
    "    sess.run(init)\n",
    "    for step in range(201):\n",
    "        \n",
    "        if step % 20 == 0:\n",
    "            print step, sess.run([k, b, loss])\n",
    "        \n",
    "        sess.run(train)\n",
    "        "
   ]
  },
  {
   "cell_type": "code",
   "execution_count": null,
   "metadata": {},
   "outputs": [],
   "source": []
  },
  {
   "cell_type": "code",
   "execution_count": null,
   "metadata": {},
   "outputs": [],
   "source": []
  }
 ],
 "metadata": {
  "kernelspec": {
   "display_name": "Python 2",
   "language": "python",
   "name": "python2"
  },
  "language_info": {
   "codemirror_mode": {
    "name": "ipython",
    "version": 2
   },
   "file_extension": ".py",
   "mimetype": "text/x-python",
   "name": "python",
   "nbconvert_exporter": "python",
   "pygments_lexer": "ipython2",
   "version": "2.7.15"
  }
 },
 "nbformat": 4,
 "nbformat_minor": 2
}
