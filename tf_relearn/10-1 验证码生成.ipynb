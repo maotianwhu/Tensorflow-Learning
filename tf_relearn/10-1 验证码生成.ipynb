{
 "cells": [
  {
   "cell_type": "code",
   "execution_count": 1,
   "metadata": {},
   "outputs": [],
   "source": [
    "from captcha.image import ImageCaptcha\n",
    "import numpy as np\n",
    "from PIL import Image\n",
    "import random\n",
    "import sys"
   ]
  },
  {
   "cell_type": "code",
   "execution_count": 2,
   "metadata": {},
   "outputs": [
    {
     "name": "stdout",
     "output_type": "stream",
     "text": [
      ">> Creating image 10000/10000\n"
     ]
    }
   ],
   "source": [
    "number = ['0', '1', '2', '3', '4', '5', '6', '7', '8', '9']\n",
    "\n",
    "def random_captcha_text(char_set=number, captcha_size=4):\n",
    "    # 验证码列表\n",
    "    captcha_text = []\n",
    "    for i in range(captcha_size):\n",
    "        c = random.choice(char_set)\n",
    "        # 加入验证码列表\n",
    "        captcha_text.append(c)\n",
    "    return captcha_text\n",
    "\n",
    "\n",
    "\n",
    "#生成字符对应的验证码\n",
    "def gen_captcha_text_image():\n",
    "    image = ImageCaptcha()\n",
    "    captcha_text = random_captcha_text()\n",
    "    captcha_text = ''.join(captcha_text)\n",
    "    captcha = image.generate(captcha_text)\n",
    "    \n",
    "    image.write(captcha_text, 'captcha/images/' + captcha_text + '.jpg') # 写到文件\n",
    "\n",
    "    \n",
    "    # 数量少于10000，因为重名\n",
    "num = 10000\n",
    "\n",
    "if __name__ == '__main__':\n",
    "    for i in range(num):\n",
    "        gen_captcha_text_image()\n",
    "        sys.stdout.write('\\r>> Creating image %d/%d' %(i+1, num))\n",
    "        sys.stdout.flush()\n",
    "    sys.stdout.write('\\n')\n",
    "    sys.stdout.flush()\n"
   ]
  },
  {
   "cell_type": "code",
   "execution_count": null,
   "metadata": {},
   "outputs": [],
   "source": []
  }
 ],
 "metadata": {
  "kernelspec": {
   "display_name": "Python 2",
   "language": "python",
   "name": "python2"
  },
  "language_info": {
   "codemirror_mode": {
    "name": "ipython",
    "version": 2
   },
   "file_extension": ".py",
   "mimetype": "text/x-python",
   "name": "python",
   "nbconvert_exporter": "python",
   "pygments_lexer": "ipython2",
   "version": "2.7.15"
  }
 },
 "nbformat": 4,
 "nbformat_minor": 2
}
