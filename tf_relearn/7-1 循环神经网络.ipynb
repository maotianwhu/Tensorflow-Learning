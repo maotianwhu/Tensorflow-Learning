{
 "cells": [
  {
   "cell_type": "code",
   "execution_count": 1,
   "metadata": {},
   "outputs": [
    {
     "ename": "RuntimeError",
     "evalue": "module compiled against API version 0xc but this version of numpy is 0xa",
     "output_type": "error",
     "traceback": [
      "\u001b[0;31m---------------------------------------------------------------------------\u001b[0m",
      "\u001b[0;31mRuntimeError\u001b[0m                              Traceback (most recent call last)",
      "\u001b[0;31mRuntimeError\u001b[0m: module compiled against API version 0xc but this version of numpy is 0xa"
     ]
    },
    {
     "ename": "RuntimeError",
     "evalue": "module compiled against API version 0xc but this version of numpy is 0xa",
     "output_type": "error",
     "traceback": [
      "\u001b[0;31m---------------------------------------------------------------------------\u001b[0m",
      "\u001b[0;31mRuntimeError\u001b[0m                              Traceback (most recent call last)",
      "\u001b[0;31mRuntimeError\u001b[0m: module compiled against API version 0xc but this version of numpy is 0xa"
     ]
    }
   ],
   "source": [
    "import tensorflow as tf\n",
    "from tensorflow.examples.tutorials.mnist import input_data"
   ]
  },
  {
   "cell_type": "code",
   "execution_count": 2,
   "metadata": {},
   "outputs": [
    {
     "name": "stdout",
     "output_type": "stream",
     "text": [
      "WARNING:tensorflow:From <ipython-input-2-b91b323fffed>:2: read_data_sets (from tensorflow.contrib.learn.python.learn.datasets.mnist) is deprecated and will be removed in a future version.\n",
      "Instructions for updating:\n",
      "Please use alternatives such as official/mnist/dataset.py from tensorflow/models.\n",
      "WARNING:tensorflow:From /Users/zhulf/anaconda2/lib/python2.7/site-packages/tensorflow/contrib/learn/python/learn/datasets/mnist.py:260: maybe_download (from tensorflow.contrib.learn.python.learn.datasets.base) is deprecated and will be removed in a future version.\n",
      "Instructions for updating:\n",
      "Please write your own downloading logic.\n",
      "WARNING:tensorflow:From /Users/zhulf/anaconda2/lib/python2.7/site-packages/tensorflow/contrib/learn/python/learn/datasets/mnist.py:262: extract_images (from tensorflow.contrib.learn.python.learn.datasets.mnist) is deprecated and will be removed in a future version.\n",
      "Instructions for updating:\n",
      "Please use tf.data to implement this functionality.\n",
      "Extracting MNIST_data/train-images-idx3-ubyte.gz\n",
      "WARNING:tensorflow:From /Users/zhulf/anaconda2/lib/python2.7/site-packages/tensorflow/contrib/learn/python/learn/datasets/mnist.py:267: extract_labels (from tensorflow.contrib.learn.python.learn.datasets.mnist) is deprecated and will be removed in a future version.\n",
      "Instructions for updating:\n",
      "Please use tf.data to implement this functionality.\n",
      "Extracting MNIST_data/train-labels-idx1-ubyte.gz\n",
      "WARNING:tensorflow:From /Users/zhulf/anaconda2/lib/python2.7/site-packages/tensorflow/contrib/learn/python/learn/datasets/mnist.py:110: dense_to_one_hot (from tensorflow.contrib.learn.python.learn.datasets.mnist) is deprecated and will be removed in a future version.\n",
      "Instructions for updating:\n",
      "Please use tf.one_hot on tensors.\n",
      "Extracting MNIST_data/t10k-images-idx3-ubyte.gz\n",
      "Extracting MNIST_data/t10k-labels-idx1-ubyte.gz\n",
      "WARNING:tensorflow:From /Users/zhulf/anaconda2/lib/python2.7/site-packages/tensorflow/contrib/learn/python/learn/datasets/mnist.py:290: __init__ (from tensorflow.contrib.learn.python.learn.datasets.mnist) is deprecated and will be removed in a future version.\n",
      "Instructions for updating:\n",
      "Please use alternatives such as official/mnist/dataset.py from tensorflow/models.\n",
      "WARNING:tensorflow:From <ipython-input-2-b91b323fffed>:24: __init__ (from tensorflow.python.ops.rnn_cell_impl) is deprecated and will be removed in a future version.\n",
      "Instructions for updating:\n",
      "This class is deprecated, please use tf.nn.rnn_cell.LSTMCell, which supports all the feature this cell currently has. Please replace the existing code with tf.nn.rnn_cell.LSTMCell(name='basic_lstm_cell').\n",
      "WARNING:tensorflow:From <ipython-input-2-b91b323fffed>:36: softmax_cross_entropy_with_logits (from tensorflow.python.ops.nn_ops) is deprecated and will be removed in a future version.\n",
      "Instructions for updating:\n",
      "\n",
      "Future major versions of TensorFlow will allow gradients to flow\n",
      "into the labels input on backprop by default.\n",
      "\n",
      "See `tf.nn.softmax_cross_entropy_with_logits_v2`.\n",
      "\n",
      "iter: 0, train accuracy: 0.96, iter: 0, test accuracy: 0.9524\n",
      "iter: 1, train accuracy: 1.0, iter: 1, test accuracy: 0.9728\n",
      "iter: 2, train accuracy: 0.96, iter: 2, test accuracy: 0.9746\n",
      "iter: 3, train accuracy: 0.98, iter: 3, test accuracy: 0.9806\n",
      "iter: 4, train accuracy: 1.0, iter: 4, test accuracy: 0.98\n",
      "iter: 5, train accuracy: 1.0, iter: 5, test accuracy: 0.9844\n",
      "iter: 6, train accuracy: 1.0, iter: 6, test accuracy: 0.9847\n",
      "iter: 7, train accuracy: 1.0, iter: 7, test accuracy: 0.9844\n",
      "iter: 8, train accuracy: 1.0, iter: 8, test accuracy: 0.9831\n",
      "iter: 9, train accuracy: 1.0, iter: 9, test accuracy: 0.9816\n",
      "iter: 10, train accuracy: 0.94, iter: 10, test accuracy: 0.9846\n",
      "iter: 11, train accuracy: 0.98, iter: 11, test accuracy: 0.986\n",
      "iter: 12, train accuracy: 0.98, iter: 12, test accuracy: 0.9886\n",
      "iter: 13, train accuracy: 1.0, iter: 13, test accuracy: 0.9864\n",
      "iter: 14, train accuracy: 1.0, iter: 14, test accuracy: 0.9855\n",
      "iter: 15, train accuracy: 1.0, iter: 15, test accuracy: 0.9867\n",
      "iter: 16, train accuracy: 1.0, iter: 16, test accuracy: 0.9867\n",
      "iter: 17, train accuracy: 1.0, iter: 17, test accuracy: 0.9883\n",
      "iter: 18, train accuracy: 1.0, iter: 18, test accuracy: 0.9891\n",
      "iter: 19, train accuracy: 1.0, iter: 19, test accuracy: 0.9859\n",
      "iter: 20, train accuracy: 1.0, iter: 20, test accuracy: 0.9886\n"
     ]
    }
   ],
   "source": [
    "# 载入数据\n",
    "mnist = input_data.read_data_sets(\"MNIST_data\", one_hot=True)\n",
    "\n",
    "n_inputs = 28 # 输入一行，一行有28个数据\n",
    "max_time = 28 # 一共28行\n",
    "lstm_size = 100 # 隐藏单元\n",
    "n_classes = 10 # 10个分类\n",
    "batch_size = 50 # 每批次50个样本\n",
    "\n",
    "n_batch = mnist.train.num_examples // batch_size\n",
    "\n",
    "# 定义两个placeholder\n",
    "x = tf.placeholder(tf.float32, [None, 784])\n",
    "y = tf.placeholder(tf.float32, [None, 10])\n",
    "keep_prob = tf.placeholder(tf.float32)\n",
    "\n",
    "\n",
    "# 初始化权值和偏置值\n",
    "weights = tf.Variable(tf.truncated_normal([lstm_size, n_classes], stddev=0.1))\n",
    "biases = tf.Variable(tf.constant(0.1, shape=[n_classes]))\n",
    "\n",
    "def RNN(X, weights, biases):\n",
    "    inputs = tf.reshape(X, [-1, max_time, n_inputs])\n",
    "    lstm_cell = tf.contrib.rnn.BasicLSTMCell(lstm_size)\n",
    "    outputs, final_state = tf.nn.dynamic_rnn(lstm_cell, inputs, dtype=tf.float32)\n",
    "    # final_state[0] 是cell state\n",
    "    # final_state[1] 是hidden_state\n",
    "    results = tf.matmul(final_state[1], weights) + biases\n",
    "    \n",
    "    return results\n",
    "    \n",
    "\n",
    "prediction = RNN(x, weights, biases)\n",
    "\n",
    "# 交叉熵代价函数\n",
    "loss = tf.reduce_mean(tf.nn.softmax_cross_entropy_with_logits(labels = y, logits = prediction))\n",
    "\n",
    "# train_step = tf.train.GradientDescentOptimizer(0.2).minimize(loss)\n",
    "train_step = tf.train.AdamOptimizer(1e-3).minimize(loss)\n",
    "\n",
    "# 初始化变量\n",
    "init = tf.global_variables_initializer()\n",
    "\n",
    "# 结果存放在一个Bool型列表中\n",
    "correct_predition = tf.equal(tf.argmax(y, 1), tf.argmax(prediction, 1))\n",
    "# 求准确率\n",
    "accuracy = tf.reduce_mean(tf.cast(correct_predition, tf.float32))\n",
    "\n",
    "\n",
    "with tf.Session() as sess:\n",
    "    sess.run(init)\n",
    "    for epoch in range(21):\n",
    "        \n",
    "        \n",
    "        for batch in range(n_batch):\n",
    "            batch_xs, batch_ys = mnist.train.next_batch(batch_size)\n",
    "            sess.run(train_step, feed_dict={x: batch_xs, y: batch_ys, keep_prob: 1.0})\n",
    "        \n",
    "        train_acc = sess.run(accuracy, feed_dict={x: batch_xs, y: batch_ys, keep_prob: 1.0})\n",
    "        acc = sess.run(accuracy, feed_dict={x: mnist.test.images, y: mnist.test.labels, keep_prob: 1.0})\n",
    "        \n",
    "        print \"iter: \" + str(epoch) + \", train accuracy: \" + str(train_acc) + \", iter: \" + str(epoch) + \", test accuracy: \" + str(acc)\n",
    "        \n",
    "        \n",
    "    "
   ]
  },
  {
   "cell_type": "code",
   "execution_count": null,
   "metadata": {},
   "outputs": [],
   "source": []
  }
 ],
 "metadata": {
  "kernelspec": {
   "display_name": "Python 2",
   "language": "python",
   "name": "python2"
  },
  "language_info": {
   "codemirror_mode": {
    "name": "ipython",
    "version": 2
   },
   "file_extension": ".py",
   "mimetype": "text/x-python",
   "name": "python",
   "nbconvert_exporter": "python",
   "pygments_lexer": "ipython2",
   "version": "2.7.15"
  }
 },
 "nbformat": 4,
 "nbformat_minor": 2
}
